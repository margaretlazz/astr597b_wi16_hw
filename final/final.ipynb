{
 "cells": [
  {
   "cell_type": "markdown",
   "metadata": {},
   "source": [
    "# Final Project"
   ]
  },
  {
   "cell_type": "markdown",
   "metadata": {},
   "source": [
    "Due: Mar 20th 2015, 10pm PDT (((**NOTE: THIS IS A HARD DEADLINE; NO EXTENSIONS WILL BE POSSIBLE **)))\n",
    "\n",
    "How to submit: Fork the homeworks git repository and write your homework in an IPython notebook in a directory named final/$NAME, replacing $NAME with your name w/o any spaces (i.e., final/MarioJuric). To submit, issue a pull request."
   ]
  },
  {
   "cell_type": "markdown",
   "metadata": {},
   "source": [
    "## Problem 1\n",
    "\n",
    "In class, you gave a presentation on a large survey project. For this homework, write:\n",
    "\n",
    "* An LSD YAML table schema (.yaml file), and,\n",
    "* the `lsd-import` command line (or any additional code or scripts) for a catalog from the survey you discussed.\n",
    "\n",
    "Note that this problem is *very* similar to [Problem #2 in Homework #1](https://github.com/mjuric/astr597b_wi16_hw/blob/master/hw1/hw1.ipynb).\n",
    "\n",
    "## Notes\n",
    "\n",
    "* You don't need to import the entire catalog -- some of them are quite big! Just demonstrate that your schema works by importing a small subset (e.g., one or a few files from the catalog).\n",
    "* If the project you presented consists of multiple sub-surveys, pick one for which you will write the schema. There's no need to do all of them."
   ]
  }
 ],
 "metadata": {
  "kernelspec": {
   "display_name": "Python 2",
   "language": "python",
   "name": "python2"
  },
  "language_info": {
   "codemirror_mode": {
    "name": "ipython",
    "version": 2
   },
   "file_extension": ".py",
   "mimetype": "text/x-python",
   "name": "python",
   "nbconvert_exporter": "python",
   "pygments_lexer": "ipython2",
   "version": "2.7.11"
  }
 },
 "nbformat": 4,
 "nbformat_minor": 0
}
